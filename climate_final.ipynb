{
 "cells": [
  {
   "cell_type": "code",
   "execution_count": 1,
   "metadata": {},
   "outputs": [],
   "source": [
    "%matplotlib inline\n",
    "from matplotlib import style\n",
    "style.use('fivethirtyeight')\n",
    "import matplotlib.pyplot as plt"
   ]
  },
  {
   "cell_type": "code",
   "execution_count": 2,
   "metadata": {},
   "outputs": [],
   "source": [
    "import numpy as np\n",
    "import pandas as pd"
   ]
  },
  {
   "cell_type": "code",
   "execution_count": 3,
   "metadata": {},
   "outputs": [],
   "source": [
    "import datetime as dt\n",
    "from datetime import datetime as dt_1"
   ]
  },
  {
   "cell_type": "markdown",
   "metadata": {},
   "source": [
    "# Reflect Tables into SQLAlchemy ORM"
   ]
  },
  {
   "cell_type": "code",
   "execution_count": 4,
   "metadata": {},
   "outputs": [],
   "source": [
    "# Python SQL toolkit and Object Relational Mapper\n",
    "import sqlalchemy\n",
    "from sqlalchemy.ext.automap import automap_base\n",
    "from sqlalchemy.orm import Session\n",
    "from sqlalchemy import create_engine, func, inspect"
   ]
  },
  {
   "cell_type": "code",
   "execution_count": 5,
   "metadata": {},
   "outputs": [],
   "source": [
    "engine = create_engine(\"sqlite:///Resources/hawaii.sqlite\")"
   ]
  },
  {
   "cell_type": "code",
   "execution_count": 6,
   "metadata": {},
   "outputs": [],
   "source": [
    "# reflect an existing database into a new model\n",
    "Base = automap_base()\n",
    "# reflect the tables\n",
    "Base.prepare(engine, reflect=True)"
   ]
  },
  {
   "cell_type": "code",
   "execution_count": 7,
   "metadata": {},
   "outputs": [
    {
     "data": {
      "text/plain": [
       "['measurement', 'station']"
      ]
     },
     "execution_count": 7,
     "metadata": {},
     "output_type": "execute_result"
    }
   ],
   "source": [
    "# We can view all of the classes that automap found\n",
    "Base.classes.keys()"
   ]
  },
  {
   "cell_type": "code",
   "execution_count": 8,
   "metadata": {},
   "outputs": [],
   "source": [
    "# Save references to each table\n",
    "Measurement = Base.classes.measurement\n",
    "Station = Base.classes.station"
   ]
  },
  {
   "cell_type": "code",
   "execution_count": 9,
   "metadata": {},
   "outputs": [],
   "source": [
    "# Create our session (link) from Python to the DB\n",
    "session = Session(engine)"
   ]
  },
  {
   "cell_type": "code",
   "execution_count": 10,
   "metadata": {},
   "outputs": [],
   "source": [
    "# Define inspector variable to get column names\n",
    "inspector = inspect(engine)"
   ]
  },
  {
   "cell_type": "code",
   "execution_count": 11,
   "metadata": {},
   "outputs": [
    {
     "name": "stdout",
     "output_type": "stream",
     "text": [
      "id INTEGER\n",
      "station TEXT\n",
      "date TEXT\n",
      "prcp FLOAT\n",
      "tobs FLOAT\n"
     ]
    }
   ],
   "source": [
    "# Column names for table, Measurement\n",
    "columns = inspector.get_columns('measurement')\n",
    "for c in columns:\n",
    "    print(c['name'], c[\"type\"])"
   ]
  },
  {
   "cell_type": "code",
   "execution_count": 12,
   "metadata": {},
   "outputs": [
    {
     "name": "stdout",
     "output_type": "stream",
     "text": [
      "id INTEGER\n",
      "station TEXT\n",
      "name TEXT\n",
      "latitude FLOAT\n",
      "longitude FLOAT\n",
      "elevation FLOAT\n"
     ]
    }
   ],
   "source": [
    "# Column names for table, Station\n",
    "columns = inspector.get_columns('station')\n",
    "for c in columns:\n",
    "    print(c['name'], c[\"type\"])"
   ]
  },
  {
   "cell_type": "markdown",
   "metadata": {},
   "source": [
    "# Exploratory Climate Analysis"
   ]
  },
  {
   "cell_type": "code",
   "execution_count": 13,
   "metadata": {},
   "outputs": [
    {
     "data": {
      "text/html": [
       "<div>\n",
       "<style scoped>\n",
       "    .dataframe tbody tr th:only-of-type {\n",
       "        vertical-align: middle;\n",
       "    }\n",
       "\n",
       "    .dataframe tbody tr th {\n",
       "        vertical-align: top;\n",
       "    }\n",
       "\n",
       "    .dataframe thead th {\n",
       "        text-align: right;\n",
       "    }\n",
       "</style>\n",
       "<table border=\"1\" class=\"dataframe\">\n",
       "  <thead>\n",
       "    <tr style=\"text-align: right;\">\n",
       "      <th></th>\n",
       "      <th>precipitation</th>\n",
       "    </tr>\n",
       "    <tr>\n",
       "      <th>date</th>\n",
       "      <th></th>\n",
       "    </tr>\n",
       "  </thead>\n",
       "  <tbody>\n",
       "    <tr>\n",
       "      <th>2016-08-23</th>\n",
       "      <td>0.00</td>\n",
       "    </tr>\n",
       "    <tr>\n",
       "      <th>2016-08-23</th>\n",
       "      <td>NaN</td>\n",
       "    </tr>\n",
       "    <tr>\n",
       "      <th>2016-08-23</th>\n",
       "      <td>1.79</td>\n",
       "    </tr>\n",
       "    <tr>\n",
       "      <th>2016-08-23</th>\n",
       "      <td>0.05</td>\n",
       "    </tr>\n",
       "    <tr>\n",
       "      <th>2016-08-23</th>\n",
       "      <td>0.15</td>\n",
       "    </tr>\n",
       "    <tr>\n",
       "      <th>2016-08-23</th>\n",
       "      <td>0.70</td>\n",
       "    </tr>\n",
       "    <tr>\n",
       "      <th>2016-08-23</th>\n",
       "      <td>0.02</td>\n",
       "    </tr>\n",
       "    <tr>\n",
       "      <th>2016-08-24</th>\n",
       "      <td>0.08</td>\n",
       "    </tr>\n",
       "    <tr>\n",
       "      <th>2016-08-24</th>\n",
       "      <td>2.15</td>\n",
       "    </tr>\n",
       "    <tr>\n",
       "      <th>2016-08-24</th>\n",
       "      <td>2.28</td>\n",
       "    </tr>\n",
       "  </tbody>\n",
       "</table>\n",
       "</div>"
      ],
      "text/plain": [
       "            precipitation\n",
       "date                     \n",
       "2016-08-23           0.00\n",
       "2016-08-23            NaN\n",
       "2016-08-23           1.79\n",
       "2016-08-23           0.05\n",
       "2016-08-23           0.15\n",
       "2016-08-23           0.70\n",
       "2016-08-23           0.02\n",
       "2016-08-24           0.08\n",
       "2016-08-24           2.15\n",
       "2016-08-24           2.28"
      ]
     },
     "execution_count": 13,
     "metadata": {},
     "output_type": "execute_result"
    }
   ],
   "source": [
    "# Design a query to retrieve the last 12 months of precipitation data and plot the results\n",
    "# Calculate the date 1 year ago from the last data point in the database\n",
    "\n",
    "date_frmt = '%Y-%m-%d'\n",
    "last_date = dt_1.strptime(str(session.query(func.max(Measurement.date)).first()[0]), date_frmt)\n",
    "# I used 366 days because the example uses that exact information.  Not sure which is better for grading...\n",
    "delta_days = 366\n",
    "\n",
    "earliest_date = last_date - dt.timedelta(days=delta_days)\n",
    "\n",
    "# Perform a query to retrieve the data and precipitation scores\n",
    "\n",
    "query_results = session.query(Measurement.date, Measurement.prcp).\\\n",
    "    filter(Measurement.date >= earliest_date).all()\n",
    "\n",
    "# Save the query results as a Pandas DataFrame and set the index to the date column\n",
    "# Sort the dataframe by date\n",
    "\n",
    "query_df = pd.DataFrame(query_results)\n",
    "query_df = (query_df.set_index('date')).sort_index()\n",
    "query_df = query_df.rename(columns={'prcp': 'precipitation'})\n",
    "\n",
    "query_df.head(10)"
   ]
  },
  {
   "cell_type": "code",
   "execution_count": 14,
   "metadata": {},
   "outputs": [
    {
     "data": {
      "image/png": "[encoded data removed]",
      "text/plain": [
       "<Figure size 720x504 with 1 Axes>"
      ]
     },
     "metadata": {
      "needs_background": "light"
     },
     "output_type": "display_data"
    }
   ],
   "source": [
    "# Use Pandas Plotting with Matplotlib to plot the data\n",
    "query_df.plot(kind='line', figsize=(10,7))\n",
    "plt.title('Precipitation by Date', fontsize=20)\n",
    "plt.xlabel(f'Date ({dt_1.strftime(earliest_date, date_frmt)} to {dt_1.strftime(last_date, date_frmt)})', fontsize=10)\n",
    "plt.ylabel('Amount of Precipitation (inches)', fontsize=10);"
   ]
  },
  {
   "cell_type": "code",
   "execution_count": 15,
   "metadata": {},
   "outputs": [
    {
     "data": {
      "text/html": [
       "<div>\n",
       "<style scoped>\n",
       "    .dataframe tbody tr th:only-of-type {\n",
       "        vertical-align: middle;\n",
       "    }\n",
       "\n",
       "    .dataframe tbody tr th {\n",
       "        vertical-align: top;\n",
       "    }\n",
       "\n",
       "    .dataframe thead th {\n",
       "        text-align: right;\n",
       "    }\n",
       "</style>\n",
       "<table border=\"1\" class=\"dataframe\">\n",
       "  <thead>\n",
       "    <tr style=\"text-align: right;\">\n",
       "      <th></th>\n",
       "      <th>precipitation</th>\n",
       "    </tr>\n",
       "  </thead>\n",
       "  <tbody>\n",
       "    <tr>\n",
       "      <th>count</th>\n",
       "      <td>2021.000000</td>\n",
       "    </tr>\n",
       "    <tr>\n",
       "      <th>mean</th>\n",
       "      <td>0.177279</td>\n",
       "    </tr>\n",
       "    <tr>\n",
       "      <th>std</th>\n",
       "      <td>0.461190</td>\n",
       "    </tr>\n",
       "    <tr>\n",
       "      <th>min</th>\n",
       "      <td>0.000000</td>\n",
       "    </tr>\n",
       "    <tr>\n",
       "      <th>25%</th>\n",
       "      <td>0.000000</td>\n",
       "    </tr>\n",
       "    <tr>\n",
       "      <th>50%</th>\n",
       "      <td>0.020000</td>\n",
       "    </tr>\n",
       "    <tr>\n",
       "      <th>75%</th>\n",
       "      <td>0.130000</td>\n",
       "    </tr>\n",
       "    <tr>\n",
       "      <th>max</th>\n",
       "      <td>6.700000</td>\n",
       "    </tr>\n",
       "  </tbody>\n",
       "</table>\n",
       "</div>"
      ],
      "text/plain": [
       "       precipitation\n",
       "count    2021.000000\n",
       "mean        0.177279\n",
       "std         0.461190\n",
       "min         0.000000\n",
       "25%         0.000000\n",
       "50%         0.020000\n",
       "75%         0.130000\n",
       "max         6.700000"
      ]
     },
     "execution_count": 15,
     "metadata": {},
     "output_type": "execute_result"
    }
   ],
   "source": [
    "# Use Pandas to calcualte the summary statistics for the precipitation data\n",
    "query_df.describe()"
   ]
  },
  {
   "cell_type": "markdown",
   "metadata": {},
   "source": [
    "# Station Analysis"
   ]
  },
  {
   "cell_type": "code",
   "execution_count": 16,
   "metadata": {},
   "outputs": [
    {
     "data": {
      "text/plain": [
       "[(9)]"
      ]
     },
     "execution_count": 16,
     "metadata": {},
     "output_type": "execute_result"
    }
   ],
   "source": [
    "# Design a query to show how many stations are available in this dataset?\n",
    "session.query(func.count(Station.id)).all()"
   ]
  },
  {
   "cell_type": "code",
   "execution_count": 17,
   "metadata": {},
   "outputs": [
    {
     "data": {
      "text/plain": [
       "[('USC00519281', 2772),\n",
       " ('USC00519397', 2724),\n",
       " ('USC00513117', 2709),\n",
       " ('USC00519523', 2669),\n",
       " ('USC00516128', 2612),\n",
       " ('USC00514830', 2202),\n",
       " ('USC00511918', 1979),\n",
       " ('USC00517948', 1372),\n",
       " ('USC00518838', 511)]"
      ]
     },
     "execution_count": 17,
     "metadata": {},
     "output_type": "execute_result"
    }
   ],
   "source": [
    "# What are the most active stations? (i.e. what stations have the most rows)?\n",
    "# List the stations and the counts in descending order.\n",
    "activity_query = session.query(Measurement.station, func.count(Measurement.station)).group_by(Measurement.station).\\\n",
    "order_by((func.count(Measurement.station)).desc()).all()\n",
    "\n",
    "activity_query"
   ]
  },
  {
   "cell_type": "code",
   "execution_count": 18,
   "metadata": {},
   "outputs": [
    {
     "data": {
      "text/plain": [
       "[(54.0, 85.0, 71.66378066378067)]"
      ]
     },
     "execution_count": 18,
     "metadata": {},
     "output_type": "execute_result"
    }
   ],
   "source": [
    "# Using the station id from the previous query, calculate the lowest temperature recorded, \n",
    "# highest temperature recorded, and average temperature most active station?\n",
    "most_active = activity_query[0][0]\n",
    "temp = Measurement.tobs\n",
    "sel = [func.min(temp), func.max(temp), func.avg(temp)]\n",
    "\n",
    "session.query(*sel).filter(Measurement.station == most_active).all()"
   ]
  },
  {
   "cell_type": "code",
   "execution_count": 19,
   "metadata": {},
   "outputs": [],
   "source": [
    "# Choose the station with the highest number of temperature observations.\n",
    "# Query the last 12 months of temperature observation data for this station\n",
    "temp_results = session.query(Measurement.tobs).\\\n",
    "    filter((Measurement.date >= earliest_date)&(Measurement.station == most_active)).all()\n",
    "\n",
    "temp_active_df = pd.DataFrame(temp_results)\n",
    "temp_active_df = temp_active_df.rename(columns={'tobs': 'temperature'})"
   ]
  },
  {
   "cell_type": "code",
   "execution_count": 20,
   "metadata": {},
   "outputs": [
    {
     "data": {
      "image/png": "[encoded data removed]",
      "text/plain": [
       "<Figure size 720x504 with 1 Axes>"
      ]
     },
     "metadata": {
      "needs_background": "light"
     },
     "output_type": "display_data"
    }
   ],
   "source": [
    "# Plot the results as a histogram\n",
    "temp_active_df.plot(kind='hist', bins=12, color='pink', figsize=(10,7))\n",
    "plt.title(f'Temperature Frequency from {dt_1.strftime(earliest_date, date_frmt)} to \\\n",
    "{dt_1.strftime(last_date, date_frmt)}', fontsize=20)\n",
    "plt.xlabel('Temperature (Fahrenheit)', fontsize=10)\n",
    "plt.ylabel('Frequency', fontsize=10);"
   ]
  },
  {
   "cell_type": "markdown",
   "metadata": {},
   "source": [
    "# Temperature Analysis"
   ]
  },
  {
   "cell_type": "code",
   "execution_count": 21,
   "metadata": {},
   "outputs": [
    {
     "name": "stdout",
     "output_type": "stream",
     "text": [
      "Min Temp (F): 62.0\n",
      "Avg Temp (F): 69.6\n",
      "Max Temp (F): 74.0\n"
     ]
    },
    {
     "data": {
      "text/plain": [
       "(62.0, 69.57142857142857, 74.0)"
      ]
     },
     "execution_count": 21,
     "metadata": {},
     "output_type": "execute_result"
    }
   ],
   "source": [
    "# This function called `calc_temps` will accept start date and end date in the format '%Y-%m-%d' \n",
    "# and return the minimum, average, and maximum temperatures for that range of dates\n",
    "def calc_temps(start_date, end_date):\n",
    "    \"\"\"TMIN, TAVG, and TMAX for a list of dates.\n",
    "    \n",
    "    Args:\n",
    "        start_date (string): A date string in the format %Y-%m-%d\n",
    "        end_date (string): A date string in the format %Y-%m-%d\n",
    "        \n",
    "    Returns:\n",
    "        TMIN, TAVE, and TMAX\n",
    "    \"\"\"\n",
    "    \n",
    "    temp_info = (session.query(func.min(Measurement.tobs), func.avg(Measurement.tobs), func.max(Measurement.tobs)).\\\n",
    "        filter(Measurement.date >= start_date).filter(Measurement.date <= end_date).all())[0]\n",
    "\n",
    "\n",
    "    \n",
    "    print(f\"\"\"Min Temp (F): {temp_info[0]}\n",
    "Avg Temp (F): {round(temp_info[1],1)}\n",
    "Max Temp (F): {temp_info[2]}\"\"\")\n",
    "    \n",
    "    return temp_info\n",
    "\n",
    "# function usage example\n",
    "calc_temps('2012-02-28', '2012-03-05')"
   ]
  },
  {
   "cell_type": "code",
   "execution_count": 22,
   "metadata": {},
   "outputs": [
    {
     "name": "stdout",
     "output_type": "stream",
     "text": [
      "Min Temp (F): 68.0\n",
      "Avg Temp (F): 74.8\n",
      "Max Temp (F): 87.0\n"
     ]
    },
    {
     "data": {
      "text/plain": [
       "(68.0, 74.84444444444445, 87.0)"
      ]
     },
     "execution_count": 22,
     "metadata": {},
     "output_type": "execute_result"
    }
   ],
   "source": [
    "# Use your previous function `calc_temps` to calculate the tmin, tavg, and tmax \n",
    "# for your trip using the previous year's data for those same dates.\n",
    "start_date = '2019-05-12'\n",
    "end_date = '2019-05-27'\n",
    "\n",
    "calc_start_date = '2017-05-12'\n",
    "calc_end_date = '2017-05-27'\n",
    "\n",
    "trip_temp = calc_temps(calc_start_date, calc_end_date)\n",
    "\n",
    "trip_temp"
   ]
  },
  {
   "cell_type": "code",
   "execution_count": 23,
   "metadata": {},
   "outputs": [
    {
     "data": {
      "image/png": "[encoded data removed]",
      "text/plain": [
       "<Figure size 216x648 with 1 Axes>"
      ]
     },
     "metadata": {
      "needs_background": "light"
     },
     "output_type": "display_data"
    }
   ],
   "source": [
    "# Plot the results from your previous query as a bar chart. \n",
    "# Use \"Trip Avg Temp\" as your Title\n",
    "# Use the average temperature for the y value\n",
    "# Use the peak-to-peak (tmax-tmin) value as the y error bar (yerr)\n",
    "plt.figure(figsize=(3,9))\n",
    "\n",
    "plt.bar(x='', height=trip_temp[1], color='coral', alpha=0.5, yerr=(trip_temp[2]-trip_temp[0]))\n",
    "\n",
    "plt.title('Trip Avg Temp', fontsize=15)\n",
    "plt.xticks([1])\n",
    "plt.yticks(np.arange(0,120,20))\n",
    "plt.ylabel('Temperature (F)');"
   ]
  },
  {
   "cell_type": "markdown",
   "metadata": {},
   "source": [
    "# Daily Rainfall Average"
   ]
  },
  {
   "cell_type": "code",
   "execution_count": 24,
   "metadata": {},
   "outputs": [
    {
     "name": "stdout",
     "output_type": "stream",
     "text": [
      "Precipitation Totals by Station for 2019-05-12 through 2019-05-27\n",
      "--------------------------\n",
      "Station: USC00516128\n",
      "Name: MANOA LYON ARBO 785.2, HI US\n",
      "Latitude: 21.3331\n",
      "Longitude: -157.8025\n",
      "Elevation: 152.4\n",
      "Precip Total: 6.449999999999999\n",
      "--------------------------\n",
      "Station: USC00519523\n",
      "Name: WAIMANALO EXPERIMENTAL FARM, HI US\n",
      "Latitude: 21.33556\n",
      "Longitude: -157.71139\n",
      "Elevation: 19.5\n",
      "Precip Total: 1.68\n",
      "--------------------------\n",
      "Station: USC00513117\n",
      "Name: KANEOHE 838.1, HI US\n",
      "Latitude: 21.4234\n",
      "Longitude: -157.8015\n",
      "Elevation: 14.6\n",
      "Precip Total: 1.3399999999999999\n",
      "--------------------------\n",
      "Station: USC00519281\n",
      "Name: WAIHEE 837.5, HI US\n",
      "Latitude: 21.45167\n",
      "Longitude: -157.84888999999998\n",
      "Elevation: 32.9\n",
      "Precip Total: 1.29\n",
      "--------------------------\n",
      "Station: USC00514830\n",
      "Name: KUALOA RANCH HEADQUARTERS 886.9, HI US\n",
      "Latitude: 21.5213\n",
      "Longitude: -157.8374\n",
      "Elevation: 7.0\n",
      "Precip Total: 0.51\n",
      "--------------------------\n",
      "Station: USC00519397\n",
      "Name: WAIKIKI 717.2, HI US\n",
      "Latitude: 21.2716\n",
      "Longitude: -157.8168\n",
      "Elevation: 3.0\n",
      "Precip Total: 0.44000000000000006\n",
      "--------------------------\n"
     ]
    }
   ],
   "source": [
    "# Calculate the total amount of rainfall per weather station for your trip dates\n",
    "# using the previous year's matching dates.\n",
    "\n",
    "# Sort this in descending order by precipitation amount\n",
    "# and list the station, name, latitude, longitude, and elevation\n",
    "\n",
    "sel = [Measurement.station, Station.name, Station.latitude, Station.longitude, Station.elevation,\n",
    "       func.sum(Measurement.prcp)\n",
    "      ]\n",
    "\n",
    "station_prcp_results = session.query(*sel).group_by(Measurement.station).\\\n",
    "    filter((Measurement.date >= calc_start_date)&(Measurement.date <= calc_end_date)&\\\n",
    "           (Measurement.station == Station.station)).order_by((func.sum(Measurement.prcp)).desc()).all()\n",
    "\n",
    "print(f\"\"\"Precipitation Totals by Station for {start_date} through {end_date}\n",
    "--------------------------\"\"\")\n",
    "\n",
    "for result in station_prcp_results:\n",
    "    print(f\"\"\"Station: {result[0]}\n",
    "Name: {result[1]}\n",
    "Latitude: {result[2]}\n",
    "Longitude: {result[3]}\n",
    "Elevation: {result[4]}\n",
    "Precip Total: {result[5]}\n",
    "--------------------------\"\"\")\n"
   ]
  },
  {
   "cell_type": "markdown",
   "metadata": {},
   "source": [
    "## Optional Challenge Assignment"
   ]
  },
  {
   "cell_type": "code",
   "execution_count": 25,
   "metadata": {},
   "outputs": [
    {
     "name": "stdout",
     "output_type": "stream",
     "text": [
      "Min Temp (F): 62.0\n",
      "Avg Temp (F): 69.2\n",
      "Max Temp (F): 77.0\n"
     ]
    },
    {
     "data": {
      "text/plain": [
       "(62.0, 69.15384615384616, 77.0)"
      ]
     },
     "execution_count": 25,
     "metadata": {},
     "output_type": "execute_result"
    }
   ],
   "source": [
    "# Create a query that will calculate the daily normals \n",
    "# (i.e. the averages for tmin, tmax, and tavg for all historic data matching a specific month and day)\n",
    "\n",
    "def daily_normals(date, will_print='n'):\n",
    "    \"\"\"Daily Normals.\n",
    "    \n",
    "    Args:\n",
    "        date (str): A date string in the format '%m-%d'\n",
    "        will_print (str): 'y' or 'n'.  'y' will tell the function to print out something pretty. \n",
    "            'n' is default and will not print pretty.\n",
    "        \n",
    "    Returns:\n",
    "        A list of tuples containing the daily normals, tmin, tavg, and tmax\n",
    "    \n",
    "    \"\"\"\n",
    "    \n",
    "    sel = [func.min(Measurement.tobs), func.avg(Measurement.tobs), func.max(Measurement.tobs)]\n",
    "    daily_info = (session.query(*sel).filter(func.strftime(\"%m-%d\", Measurement.date) == date).all())[0]\n",
    "\n",
    "    if will_print == 'y':\n",
    "        print(f\"\"\"Min Temp (F): {daily_info[0]}\n",
    "Avg Temp (F): {round(daily_info[1],1)}\n",
    "Max Temp (F): {daily_info[2]}\"\"\")\n",
    "    \n",
    "    return daily_info\n",
    "    \n",
    "daily_normals(\"01-01\", 'y')"
   ]
  },
  {
   "cell_type": "code",
   "execution_count": 26,
   "metadata": {},
   "outputs": [
    {
     "data": {
      "text/plain": [
       "[(65.0, 73.13793103448276, 79.0),\n",
       " (67.0, 73.14285714285714, 79.0),\n",
       " (63.0, 73.89285714285714, 80.0),\n",
       " (63.0, 73.69090909090909, 79.0),\n",
       " (68.0, 74.37931034482759, 80.0),\n",
       " (68.0, 74.45, 79.0),\n",
       " (68.0, 74.10714285714286, 82.0),\n",
       " (65.0, 73.80701754385964, 79.0),\n",
       " (68.0, 73.89655172413794, 79.0),\n",
       " (64.0, 72.96428571428571, 80.0),\n",
       " (64.0, 74.45614035087719, 80.0),\n",
       " (68.0, 74.94827586206897, 87.0),\n",
       " (67.0, 73.94827586206897, 79.0),\n",
       " (68.0, 74.27586206896552, 79.0),\n",
       " (65.0, 74.03636363636363, 82.0),\n",
       " (65.0, 74.49090909090908, 80.0)]"
      ]
     },
     "execution_count": 26,
     "metadata": {},
     "output_type": "execute_result"
    }
   ],
   "source": [
    "# calculate the daily normals for your trip\n",
    "# push each tuple of calculations into a list called `normals`\n",
    "# Set the start and end date of the trip\n",
    "# Use the start and end date to create a range of dates\n",
    "# Stip off the year and save a list of %m-%d strings\n",
    "# Loop through the list of %m-%d strings and calculate the normals for each date\n",
    "\n",
    "dt_start_date = dt_1.strptime(start_date, date_frmt)\n",
    "dt_end_date = dt_1.strptime(end_date, date_frmt)\n",
    "\n",
    "day = dt_start_date\n",
    "normals = []\n",
    "days = []\n",
    "\n",
    "while day <= dt_end_date:\n",
    "    daily_result = daily_normals(dt_1.strftime(day, '%m-%d'))\n",
    "    normals.append(daily_result)\n",
    "    days.append(day)\n",
    "    day += dt.timedelta(days=1)\n",
    "    \n",
    "normals"
   ]
  },
  {
   "cell_type": "code",
   "execution_count": 27,
   "metadata": {},
   "outputs": [
    {
     "data": {
      "text/html": [
       "<div>\n",
       "<style scoped>\n",
       "    .dataframe tbody tr th:only-of-type {\n",
       "        vertical-align: middle;\n",
       "    }\n",
       "\n",
       "    .dataframe tbody tr th {\n",
       "        vertical-align: top;\n",
       "    }\n",
       "\n",
       "    .dataframe thead th {\n",
       "        text-align: right;\n",
       "    }\n",
       "</style>\n",
       "<table border=\"1\" class=\"dataframe\">\n",
       "  <thead>\n",
       "    <tr style=\"text-align: right;\">\n",
       "      <th></th>\n",
       "      <th>tmin</th>\n",
       "      <th>tavg</th>\n",
       "      <th>tmax</th>\n",
       "    </tr>\n",
       "    <tr>\n",
       "      <th>date</th>\n",
       "      <th></th>\n",
       "      <th></th>\n",
       "      <th></th>\n",
       "    </tr>\n",
       "  </thead>\n",
       "  <tbody>\n",
       "    <tr>\n",
       "      <th>2019-05-12</th>\n",
       "      <td>65.0</td>\n",
       "      <td>73.137931</td>\n",
       "      <td>79.0</td>\n",
       "    </tr>\n",
       "    <tr>\n",
       "      <th>2019-05-13</th>\n",
       "      <td>67.0</td>\n",
       "      <td>73.142857</td>\n",
       "      <td>79.0</td>\n",
       "    </tr>\n",
       "    <tr>\n",
       "      <th>2019-05-14</th>\n",
       "      <td>63.0</td>\n",
       "      <td>73.892857</td>\n",
       "      <td>80.0</td>\n",
       "    </tr>\n",
       "    <tr>\n",
       "      <th>2019-05-15</th>\n",
       "      <td>63.0</td>\n",
       "      <td>73.690909</td>\n",
       "      <td>79.0</td>\n",
       "    </tr>\n",
       "    <tr>\n",
       "      <th>2019-05-16</th>\n",
       "      <td>68.0</td>\n",
       "      <td>74.379310</td>\n",
       "      <td>80.0</td>\n",
       "    </tr>\n",
       "    <tr>\n",
       "      <th>2019-05-17</th>\n",
       "      <td>68.0</td>\n",
       "      <td>74.450000</td>\n",
       "      <td>79.0</td>\n",
       "    </tr>\n",
       "    <tr>\n",
       "      <th>2019-05-18</th>\n",
       "      <td>68.0</td>\n",
       "      <td>74.107143</td>\n",
       "      <td>82.0</td>\n",
       "    </tr>\n",
       "    <tr>\n",
       "      <th>2019-05-19</th>\n",
       "      <td>65.0</td>\n",
       "      <td>73.807018</td>\n",
       "      <td>79.0</td>\n",
       "    </tr>\n",
       "    <tr>\n",
       "      <th>2019-05-20</th>\n",
       "      <td>68.0</td>\n",
       "      <td>73.896552</td>\n",
       "      <td>79.0</td>\n",
       "    </tr>\n",
       "    <tr>\n",
       "      <th>2019-05-21</th>\n",
       "      <td>64.0</td>\n",
       "      <td>72.964286</td>\n",
       "      <td>80.0</td>\n",
       "    </tr>\n",
       "    <tr>\n",
       "      <th>2019-05-22</th>\n",
       "      <td>64.0</td>\n",
       "      <td>74.456140</td>\n",
       "      <td>80.0</td>\n",
       "    </tr>\n",
       "    <tr>\n",
       "      <th>2019-05-23</th>\n",
       "      <td>68.0</td>\n",
       "      <td>74.948276</td>\n",
       "      <td>87.0</td>\n",
       "    </tr>\n",
       "    <tr>\n",
       "      <th>2019-05-24</th>\n",
       "      <td>67.0</td>\n",
       "      <td>73.948276</td>\n",
       "      <td>79.0</td>\n",
       "    </tr>\n",
       "    <tr>\n",
       "      <th>2019-05-25</th>\n",
       "      <td>68.0</td>\n",
       "      <td>74.275862</td>\n",
       "      <td>79.0</td>\n",
       "    </tr>\n",
       "    <tr>\n",
       "      <th>2019-05-26</th>\n",
       "      <td>65.0</td>\n",
       "      <td>74.036364</td>\n",
       "      <td>82.0</td>\n",
       "    </tr>\n",
       "    <tr>\n",
       "      <th>2019-05-27</th>\n",
       "      <td>65.0</td>\n",
       "      <td>74.490909</td>\n",
       "      <td>80.0</td>\n",
       "    </tr>\n",
       "  </tbody>\n",
       "</table>\n",
       "</div>"
      ],
      "text/plain": [
       "            tmin       tavg  tmax\n",
       "date                             \n",
       "2019-05-12  65.0  73.137931  79.0\n",
       "2019-05-13  67.0  73.142857  79.0\n",
       "2019-05-14  63.0  73.892857  80.0\n",
       "2019-05-15  63.0  73.690909  79.0\n",
       "2019-05-16  68.0  74.379310  80.0\n",
       "2019-05-17  68.0  74.450000  79.0\n",
       "2019-05-18  68.0  74.107143  82.0\n",
       "2019-05-19  65.0  73.807018  79.0\n",
       "2019-05-20  68.0  73.896552  79.0\n",
       "2019-05-21  64.0  72.964286  80.0\n",
       "2019-05-22  64.0  74.456140  80.0\n",
       "2019-05-23  68.0  74.948276  87.0\n",
       "2019-05-24  67.0  73.948276  79.0\n",
       "2019-05-25  68.0  74.275862  79.0\n",
       "2019-05-26  65.0  74.036364  82.0\n",
       "2019-05-27  65.0  74.490909  80.0"
      ]
     },
     "execution_count": 27,
     "metadata": {},
     "output_type": "execute_result"
    }
   ],
   "source": [
    "# Load the previous query results into a Pandas DataFrame and add the `trip_dates` range as the `date` index\n",
    "normals_df = pd.DataFrame(data=normals,columns=['tmin', 'tavg', 'tmax'])\n",
    "normals_df['date'] = days\n",
    "normals_df = normals_df.set_index('date')\n",
    "normals_df"
   ]
  },
  {
   "cell_type": "code",
   "execution_count": 28,
   "metadata": {},
   "outputs": [
    {
     "data": {
      "image/png": "[encoded data removed]",
      "text/plain": [
       "<Figure size 720x504 with 1 Axes>"
      ]
     },
     "metadata": {
      "needs_background": "light"
     },
     "output_type": "display_data"
    }
   ],
   "source": [
    "# Plot the daily normals as an area plot with `stacked=False`\n",
    "normals_df.plot(kind='area', stacked=False, xticks=days, yticks=(np.arange(0,100,10)), alpha=.25, figsize=(10,7))\n",
    "plt.grid(True)\n",
    "plt.title('Expected Temperature Normals by Travel Date', fontsize=20)\n",
    "plt.xlabel('Travel Date', fontsize=10)\n",
    "plt.ylabel('Temperature (Fahrenheit)', fontsize=10)\n",
    "plt.legend(loc='lower right');"
   ]
  },
  {
   "cell_type": "code",
   "execution_count": null,
   "metadata": {},
   "outputs": [],
   "source": []
  }
 ],
 "metadata": {
  "kernel_info": {
   "name": "python3"
  },
  "kernelspec": {
   "display_name": "Python 3",
   "language": "python",
   "name": "python3"
  },
  "language_info": {
   "codemirror_mode": {
    "name": "ipython",
    "version": 3
   },
   "file_extension": ".py",
   "mimetype": "text/x-python",
   "name": "python",
   "nbconvert_exporter": "python",
   "pygments_lexer": "ipython3",
   "version": "3.7.2"
  },
  "nteract": {
   "version": "0.12.3"
  },
  "varInspector": {
   "cols": {
    "lenName": 16,
    "lenType": 16,
    "lenVar": 40
   },
   "kernels_config": {
    "python": {
     "delete_cmd_postfix": "",
     "delete_cmd_prefix": "del ",
     "library": "var_list.py",
     "varRefreshCmd": "print(var_dic_list())"
    },
    "r": {
     "delete_cmd_postfix": ") ",
     "delete_cmd_prefix": "rm(",
     "library": "var_list.r",
     "varRefreshCmd": "cat(var_dic_list()) "
    }
   },
   "types_to_exclude": [
    "module",
    "function",
    "builtin_function_or_method",
    "instance",
    "_Feature"
   ],
   "window_display": false
  }
 },
 "nbformat": 4,
 "nbformat_minor": 2
}
